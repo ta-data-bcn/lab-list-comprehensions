{
 "cells": [
  {
   "cell_type": "markdown",
   "metadata": {},
   "source": [
    "## Python List Comprehension\n",
    "\n",
    "### 1. Lists\n",
    "Mutable, ordered collections that allow duplicates and different types."
   ]
  },
  {
   "cell_type": "code",
   "execution_count": 103,
   "metadata": {},
   "outputs": [
    {
     "name": "stdout",
     "output_type": "stream",
     "text": [
      "[0, 1, 1, 2, 3, 5, 8.0, 'thirteen', [21, 'twenty-one']]\n",
      "<class 'list'>\n"
     ]
    }
   ],
   "source": [
    "myList = [0, 1, 1, 2, 3, 5, 8.0, \"thirteen\", [21, \"twenty-one\"]]\n",
    "\n",
    "print(myList)\n",
    "\n",
    "print(type(myList))"
   ]
  },
  {
   "cell_type": "markdown",
   "metadata": {},
   "source": [
    "#### Stuff to do with lists"
   ]
  },
  {
   "cell_type": "code",
   "execution_count": 104,
   "metadata": {
    "scrolled": true
   },
   "outputs": [
    {
     "name": "stdout",
     "output_type": "stream",
     "text": [
      "1\n",
      "[5, 8.0, 'thirteen']\n",
      "[0, 1, 3, 8.0, [21, 'twenty-one']]\n",
      "[[21, 'twenty-one'], 'thirteen', 8.0, 5, 3, 2, 1, 1, 0]\n",
      "<class 'float'>\n",
      "[[21, 'twenty-one'], 'thirteen', 8.0, 5, 3, 2, 1, 1, 0, 'hey', 'new', 'list', 'elements']\n",
      "[[21, 'twenty-one'], 'thirteen', 8.0, 5, 'I am new', 2, 1, 1, 0]\n",
      "['thirteen', 8.0, 5, 2, 1, 1, 0]\n",
      "[9, 5, 2, 1]\n",
      "[]\n"
     ]
    }
   ],
   "source": [
    "# Get an item (by its offset)\n",
    "print(myList[2])\n",
    "\n",
    "# Get multiple items (slice)\n",
    "print(myList[5:8])\n",
    "print(myList[::2])\n",
    "\n",
    "# Get the type of an item\n",
    "print(type(myList[2]))\n",
    "\n",
    "# Combine lists\n",
    "print(myList + [\"hey\", \"new\", \"list\", \"elements\"])\n",
    "\n",
    "# Change an item\n",
    "myList[4] = \"I am new\"\n",
    "print(myList)\n",
    "\n",
    "# Delete an item\n",
    "del myList[0] # del is a statement\n",
    "myList.remove(\"I am new\") # by value (only the first one found)\n",
    "print(myList)\n",
    "\n",
    "# Get length\n",
    "len(myList)\n",
    "\n",
    "# sort (alphabetically or in ascending order)\n",
    "numbers = [5,2,9,1]\n",
    "numbers.sort(reverse=True)\n",
    "print(numbers)\n",
    "\n",
    "# Delete all items\n",
    "myList.clear()\n",
    "print(myList)"
   ]
  },
  {
   "cell_type": "markdown",
   "metadata": {},
   "source": [
    "#### Append elements to a list"
   ]
  },
  {
   "cell_type": "code",
   "execution_count": 26,
   "metadata": {},
   "outputs": [
    {
     "name": "stdout",
     "output_type": "stream",
     "text": [
      "[0, 1, 1, 2, 3, 5, 8.0, 'thirteen', [21, 'twenty-one'], 34]\n"
     ]
    }
   ],
   "source": [
    "myList.append(34)\n",
    "print(myList)"
   ]
  },
  {
   "cell_type": "markdown",
   "metadata": {},
   "source": [
    "### 2. For loops"
   ]
  },
  {
   "cell_type": "code",
   "execution_count": 59,
   "metadata": {},
   "outputs": [
    {
     "name": "stdout",
     "output_type": "stream",
     "text": [
      "11\n",
      "I have already looped through 1\n",
      "\n",
      "14\n",
      "I have already looped through 2\n",
      "\n",
      "19\n",
      "I have already looped through 3\n",
      "\n",
      "26\n",
      "I have already looped through 4\n",
      "\n"
     ]
    }
   ],
   "source": [
    "numbers = [1, 2, 3, 4]\n",
    "\n",
    "for i in numbers:\n",
    "    a = i**2\n",
    "    print(10 + a)\n",
    "    print(\"I have already looped through \" + str(i) + \"\\n\")"
   ]
  },
  {
   "cell_type": "markdown",
   "metadata": {},
   "source": [
    "#### Creating a list with a for loop"
   ]
  },
  {
   "cell_type": "code",
   "execution_count": 53,
   "metadata": {
    "scrolled": true
   },
   "outputs": [
    {
     "data": {
      "text/plain": [
       "[11, 12, 13, 14]"
      ]
     },
     "execution_count": 53,
     "metadata": {},
     "output_type": "execute_result"
    }
   ],
   "source": [
    "mybignumbers = list()\n",
    "\n",
    "for i in numbers:\n",
    "    mybignumbers.append(i + 10)\n",
    "\n",
    "mybignumbers"
   ]
  },
  {
   "cell_type": "code",
   "execution_count": 60,
   "metadata": {},
   "outputs": [
    {
     "name": "stdout",
     "output_type": "stream",
     "text": [
      "[<class 'int'>, <class 'int'>, <class 'int'>, <class 'int'>, <class 'int'>, <class 'int'>, <class 'float'>, <class 'str'>, <class 'list'>, <class 'int'>]\n"
     ]
    }
   ],
   "source": [
    "myListTypes = []\n",
    "\n",
    "for i in range(len(myList)):\n",
    "    myListTypes.append(type(myList[i]))\n",
    "    \n",
    "print(myListTypes)"
   ]
  },
  {
   "cell_type": "markdown",
   "metadata": {},
   "source": [
    "We can make these two lists columns of a dataframe."
   ]
  },
  {
   "cell_type": "code",
   "execution_count": 61,
   "metadata": {
    "collapsed": true
   },
   "outputs": [
    {
     "data": {
      "text/html": [
       "<div>\n",
       "<style scoped>\n",
       "    .dataframe tbody tr th:only-of-type {\n",
       "        vertical-align: middle;\n",
       "    }\n",
       "\n",
       "    .dataframe tbody tr th {\n",
       "        vertical-align: top;\n",
       "    }\n",
       "\n",
       "    .dataframe thead th {\n",
       "        text-align: right;\n",
       "    }\n",
       "</style>\n",
       "<table border=\"1\" class=\"dataframe\">\n",
       "  <thead>\n",
       "    <tr style=\"text-align: right;\">\n",
       "      <th></th>\n",
       "      <th>value</th>\n",
       "      <th>type</th>\n",
       "    </tr>\n",
       "  </thead>\n",
       "  <tbody>\n",
       "    <tr>\n",
       "      <th>0</th>\n",
       "      <td>0</td>\n",
       "      <td>&lt;class 'int'&gt;</td>\n",
       "    </tr>\n",
       "    <tr>\n",
       "      <th>1</th>\n",
       "      <td>1</td>\n",
       "      <td>&lt;class 'int'&gt;</td>\n",
       "    </tr>\n",
       "    <tr>\n",
       "      <th>2</th>\n",
       "      <td>1</td>\n",
       "      <td>&lt;class 'int'&gt;</td>\n",
       "    </tr>\n",
       "    <tr>\n",
       "      <th>3</th>\n",
       "      <td>2</td>\n",
       "      <td>&lt;class 'int'&gt;</td>\n",
       "    </tr>\n",
       "    <tr>\n",
       "      <th>4</th>\n",
       "      <td>3</td>\n",
       "      <td>&lt;class 'int'&gt;</td>\n",
       "    </tr>\n",
       "    <tr>\n",
       "      <th>5</th>\n",
       "      <td>5</td>\n",
       "      <td>&lt;class 'int'&gt;</td>\n",
       "    </tr>\n",
       "    <tr>\n",
       "      <th>6</th>\n",
       "      <td>8</td>\n",
       "      <td>&lt;class 'float'&gt;</td>\n",
       "    </tr>\n",
       "    <tr>\n",
       "      <th>7</th>\n",
       "      <td>thirteen</td>\n",
       "      <td>&lt;class 'str'&gt;</td>\n",
       "    </tr>\n",
       "    <tr>\n",
       "      <th>8</th>\n",
       "      <td>[21, twenty-one]</td>\n",
       "      <td>&lt;class 'list'&gt;</td>\n",
       "    </tr>\n",
       "    <tr>\n",
       "      <th>9</th>\n",
       "      <td>34</td>\n",
       "      <td>&lt;class 'int'&gt;</td>\n",
       "    </tr>\n",
       "  </tbody>\n",
       "</table>\n",
       "</div>"
      ],
      "text/plain": [
       "              value             type\n",
       "0                 0    <class 'int'>\n",
       "1                 1    <class 'int'>\n",
       "2                 1    <class 'int'>\n",
       "3                 2    <class 'int'>\n",
       "4                 3    <class 'int'>\n",
       "5                 5    <class 'int'>\n",
       "6                 8  <class 'float'>\n",
       "7          thirteen    <class 'str'>\n",
       "8  [21, twenty-one]   <class 'list'>\n",
       "9                34    <class 'int'>"
      ]
     },
     "execution_count": 61,
     "metadata": {},
     "output_type": "execute_result"
    }
   ],
   "source": [
    "import pandas as pd\n",
    "pd.DataFrame({\"value\": myList,\n",
    "              \"type\": myListTypes})"
   ]
  },
  {
   "cell_type": "markdown",
   "metadata": {},
   "source": [
    "### 3. List comprehensions"
   ]
  },
  {
   "cell_type": "markdown",
   "metadata": {},
   "source": [
    "List comprehensions can sometimes make your code cleaner, easier to read and more efficient."
   ]
  },
  {
   "cell_type": "code",
   "execution_count": 2,
   "metadata": {},
   "outputs": [
    {
     "data": {
      "text/plain": [
       "[2,\n",
       " 4,\n",
       " 6,\n",
       " 8,\n",
       " 10,\n",
       " 12,\n",
       " 14,\n",
       " 16,\n",
       " 18,\n",
       " 20,\n",
       " 22,\n",
       " 24,\n",
       " 26,\n",
       " 28,\n",
       " 30,\n",
       " 32,\n",
       " 34,\n",
       " 36,\n",
       " 38,\n",
       " 40,\n",
       " 42,\n",
       " 44,\n",
       " 46,\n",
       " 48,\n",
       " 50,\n",
       " 52,\n",
       " 54,\n",
       " 56,\n",
       " 58,\n",
       " 60,\n",
       " 62,\n",
       " 64,\n",
       " 66,\n",
       " 68,\n",
       " 70,\n",
       " 72,\n",
       " 74,\n",
       " 76,\n",
       " 78,\n",
       " 80,\n",
       " 82,\n",
       " 84,\n",
       " 86,\n",
       " 88,\n",
       " 90,\n",
       " 92,\n",
       " 94,\n",
       " 96,\n",
       " 98,\n",
       " 100,\n",
       " 102,\n",
       " 104,\n",
       " 106,\n",
       " 108,\n",
       " 110,\n",
       " 112,\n",
       " 114,\n",
       " 116,\n",
       " 118,\n",
       " 120,\n",
       " 122,\n",
       " 124,\n",
       " 126,\n",
       " 128,\n",
       " 130,\n",
       " 132,\n",
       " 134,\n",
       " 136,\n",
       " 138,\n",
       " 140,\n",
       " 142,\n",
       " 144,\n",
       " 146,\n",
       " 148,\n",
       " 150,\n",
       " 152,\n",
       " 154,\n",
       " 156,\n",
       " 158,\n",
       " 160,\n",
       " 162,\n",
       " 164,\n",
       " 166,\n",
       " 168,\n",
       " 170,\n",
       " 172,\n",
       " 174,\n",
       " 176,\n",
       " 178,\n",
       " 180,\n",
       " 182,\n",
       " 184,\n",
       " 186,\n",
       " 188,\n",
       " 190,\n",
       " 192,\n",
       " 194,\n",
       " 196,\n",
       " 198,\n",
       " 200]"
      ]
     },
     "execution_count": 2,
     "metadata": {},
     "output_type": "execute_result"
    }
   ],
   "source": [
    "upTo100 = range(1, 101)\n",
    "\n",
    "fastList = [i*2 for i in upTo100]\n",
    "\n",
    "fastList"
   ]
  },
  {
   "cell_type": "code",
   "execution_count": 124,
   "metadata": {
    "scrolled": true
   },
   "outputs": [
    {
     "data": {
      "text/plain": [
       "[int, int, int, int, int, int, float, str, list]"
      ]
     },
     "execution_count": 124,
     "metadata": {},
     "output_type": "execute_result"
    }
   ],
   "source": [
    "myList = [0, 1, 1, 2, 3, 5, 8.0, \"thirteen\", [21, \"twenty-one\"]]\n",
    "\n",
    "myListTypes2 = [type(myList[i]) for i in range(len(myList))]\n",
    "myListTypes2"
   ]
  },
  {
   "cell_type": "code",
   "execution_count": null,
   "metadata": {},
   "outputs": [],
   "source": []
  },
  {
   "cell_type": "markdown",
   "metadata": {},
   "source": [
    "#### Condtional logic"
   ]
  },
  {
   "cell_type": "code",
   "execution_count": 3,
   "metadata": {},
   "outputs": [
    {
     "data": {
      "text/plain": [
       "[0, 4, 16, 36, 64]"
      ]
     },
     "execution_count": 3,
     "metadata": {},
     "output_type": "execute_result"
    }
   ],
   "source": [
    "conditional_list = list()\n",
    "\n",
    "for i in range(10):\n",
    "    if i % 2 == 0:\n",
    "        conditional_list.append(i**2)\n",
    "    \n",
    "conditional_list"
   ]
  },
  {
   "cell_type": "code",
   "execution_count": 4,
   "metadata": {},
   "outputs": [
    {
     "data": {
      "text/plain": [
       "[0, 4, 16, 36, 64]"
      ]
     },
     "execution_count": 4,
     "metadata": {},
     "output_type": "execute_result"
    }
   ],
   "source": [
    "conditional_comprehension = [i**2 for i in range(10) if i%2==0]\n",
    "conditional_comprehension"
   ]
  },
  {
   "cell_type": "markdown",
   "metadata": {},
   "source": [
    "#### Multiple for loops"
   ]
  },
  {
   "cell_type": "code",
   "execution_count": 5,
   "metadata": {},
   "outputs": [
    {
     "data": {
      "text/plain": [
       "['Ironhack', 'Ubiqum', 'Coding', 'Data', 'UX', '9 weeks', '12 weeks']"
      ]
     },
     "execution_count": 5,
     "metadata": {},
     "output_type": "execute_result"
    }
   ],
   "source": [
    "list_of_lists = [[\"Ironhack\", \"Ubiqum\"], [\"Coding\", \"Data\", \"UX\"], [\"9 weeks\", \"12 weeks\"]]\n",
    "\n",
    "all_elements = list()\n",
    "\n",
    "for i in list_of_lists:\n",
    "    for j in i:\n",
    "        all_elements.append(j)\n",
    "        \n",
    "all_elements"
   ]
  },
  {
   "cell_type": "code",
   "execution_count": 142,
   "metadata": {
    "scrolled": true
   },
   "outputs": [
    {
     "data": {
      "text/plain": [
       "['Ironhack Coding 9 weeks',\n",
       " 'Ironhack Coding 12 weeks',\n",
       " 'Ironhack Data 9 weeks',\n",
       " 'Ironhack Data 12 weeks',\n",
       " 'Ironhack UX 9 weeks',\n",
       " 'Ironhack UX 12 weeks']"
      ]
     },
     "execution_count": 142,
     "metadata": {},
     "output_type": "execute_result"
    }
   ],
   "source": [
    "schools = [\"Ironhack\", \"Ubiqum\"]\n",
    "courses = [\"Coding\", \"Data\", \"UX\"]\n",
    "lengths = [\"9 weeks\", \"12 weeks\"]\n",
    "\n",
    "combinations = list()\n",
    "\n",
    "for school in schools:\n",
    "    for course in courses:\n",
    "        for length in lengths:\n",
    "            if school != \"Ubiqum\":\n",
    "                combinations.append(school + \" \" + course + \" \" + length)\n",
    "            \n",
    "combinations"
   ]
  },
  {
   "cell_type": "code",
   "execution_count": 141,
   "metadata": {},
   "outputs": [
    {
     "data": {
      "text/plain": [
       "['Ironhack Coding 9 weeks',\n",
       " 'Ironhack Coding 12 weeks',\n",
       " 'Ironhack Data 9 weeks',\n",
       " 'Ironhack Data 12 weeks',\n",
       " 'Ironhack UX 9 weeks',\n",
       " 'Ironhack UX 12 weeks']"
      ]
     },
     "execution_count": 141,
     "metadata": {},
     "output_type": "execute_result"
    }
   ],
   "source": [
    "combinations_2 = [school + \" \" + course + \" \" + length \n",
    "                  for school in schools for course in courses for length in lengths\n",
    "                  if school != \"Ubiqum\"]\n",
    "\n",
    "combinations_2"
   ]
  },
  {
   "cell_type": "markdown",
   "metadata": {},
   "source": [
    "#### Checking run time"
   ]
  },
  {
   "cell_type": "code",
   "execution_count": 120,
   "metadata": {},
   "outputs": [
    {
     "name": "stdout",
     "output_type": "stream",
     "text": [
      "0.04696398298998247\n"
     ]
    }
   ],
   "source": [
    "import timeit\n",
    "\n",
    "comprehension_code = \"\"\"\n",
    "big_fast_list = [i**3 for i in range(1, 100000)]\n",
    "\"\"\"\n",
    "\n",
    "elapsed_time_1 = timeit.timeit(comprehension_code, number=100)/100\n",
    "print(elapsed_time_1)"
   ]
  },
  {
   "cell_type": "code",
   "execution_count": 121,
   "metadata": {},
   "outputs": [
    {
     "name": "stdout",
     "output_type": "stream",
     "text": [
      "0.052992974869994214\n"
     ]
    }
   ],
   "source": [
    "forloop_code = \"\"\"\n",
    "big_slow_list = []\n",
    "for i in range(1, 100000):\n",
    "    big_slow_list.append(i**3)\n",
    "\"\"\"\n",
    "\n",
    "elapsed_time_2 = timeit.timeit(forloop_code, number=100)/100\n",
    "print(elapsed_time_2)"
   ]
  },
  {
   "cell_type": "code",
   "execution_count": 123,
   "metadata": {},
   "outputs": [
    {
     "data": {
      "text/plain": [
       "12.837479907310545"
      ]
     },
     "execution_count": 123,
     "metadata": {},
     "output_type": "execute_result"
    }
   ],
   "source": [
    "# difference of time in percentage\n",
    "(elapsed_time_2 - elapsed_time_1) / elapsed_time_1 * 100"
   ]
  },
  {
   "cell_type": "markdown",
   "metadata": {},
   "source": [
    "#### Reading multiple files"
   ]
  },
  {
   "cell_type": "code",
   "execution_count": 151,
   "metadata": {},
   "outputs": [],
   "source": [
    "import os\n",
    "import pandas as pd\n",
    "\n",
    "file_list = [f for f in os.listdir() if f.endswith(\".csv\")]\n",
    "data_sets = [pd.read_csv(f) for f in file_list]\n",
    "\n",
    "data = pd.concat(data_sets, axis=0)"
   ]
  },
  {
   "cell_type": "code",
   "execution_count": 152,
   "metadata": {},
   "outputs": [
    {
     "data": {
      "text/html": [
       "<div>\n",
       "<style scoped>\n",
       "    .dataframe tbody tr th:only-of-type {\n",
       "        vertical-align: middle;\n",
       "    }\n",
       "\n",
       "    .dataframe tbody tr th {\n",
       "        vertical-align: top;\n",
       "    }\n",
       "\n",
       "    .dataframe thead th {\n",
       "        text-align: right;\n",
       "    }\n",
       "</style>\n",
       "<table border=\"1\" class=\"dataframe\">\n",
       "  <thead>\n",
       "    <tr style=\"text-align: right;\">\n",
       "      <th></th>\n",
       "      <th>col1</th>\n",
       "      <th>col2</th>\n",
       "      <th>col3</th>\n",
       "      <th>col4</th>\n",
       "    </tr>\n",
       "  </thead>\n",
       "  <tbody>\n",
       "    <tr>\n",
       "      <th>0</th>\n",
       "      <td>-0.870275</td>\n",
       "      <td>-1.065854</td>\n",
       "      <td>100.047485</td>\n",
       "      <td>1001.428402</td>\n",
       "    </tr>\n",
       "    <tr>\n",
       "      <th>1</th>\n",
       "      <td>-1.175191</td>\n",
       "      <td>-1.437466</td>\n",
       "      <td>98.998930</td>\n",
       "      <td>1000.006935</td>\n",
       "    </tr>\n",
       "    <tr>\n",
       "      <th>2</th>\n",
       "      <td>-1.306477</td>\n",
       "      <td>3.359580</td>\n",
       "      <td>101.588352</td>\n",
       "      <td>999.368779</td>\n",
       "    </tr>\n",
       "    <tr>\n",
       "      <th>3</th>\n",
       "      <td>-0.732829</td>\n",
       "      <td>0.072575</td>\n",
       "      <td>100.835573</td>\n",
       "      <td>999.834442</td>\n",
       "    </tr>\n",
       "    <tr>\n",
       "      <th>4</th>\n",
       "      <td>-1.059474</td>\n",
       "      <td>1.395027</td>\n",
       "      <td>98.538409</td>\n",
       "      <td>998.827163</td>\n",
       "    </tr>\n",
       "    <tr>\n",
       "      <th>...</th>\n",
       "      <td>...</td>\n",
       "      <td>...</td>\n",
       "      <td>...</td>\n",
       "      <td>...</td>\n",
       "    </tr>\n",
       "    <tr>\n",
       "      <th>95</th>\n",
       "      <td>0.536720</td>\n",
       "      <td>-0.449630</td>\n",
       "      <td>101.956568</td>\n",
       "      <td>1000.091372</td>\n",
       "    </tr>\n",
       "    <tr>\n",
       "      <th>96</th>\n",
       "      <td>-0.547646</td>\n",
       "      <td>-0.417012</td>\n",
       "      <td>99.812171</td>\n",
       "      <td>999.657201</td>\n",
       "    </tr>\n",
       "    <tr>\n",
       "      <th>97</th>\n",
       "      <td>1.446165</td>\n",
       "      <td>0.734196</td>\n",
       "      <td>100.914901</td>\n",
       "      <td>999.966755</td>\n",
       "    </tr>\n",
       "    <tr>\n",
       "      <th>98</th>\n",
       "      <td>-0.184494</td>\n",
       "      <td>-0.547518</td>\n",
       "      <td>99.867251</td>\n",
       "      <td>1000.625049</td>\n",
       "    </tr>\n",
       "    <tr>\n",
       "      <th>99</th>\n",
       "      <td>0.473173</td>\n",
       "      <td>-0.403834</td>\n",
       "      <td>100.678745</td>\n",
       "      <td>998.968778</td>\n",
       "    </tr>\n",
       "  </tbody>\n",
       "</table>\n",
       "<p>400 rows × 4 columns</p>\n",
       "</div>"
      ],
      "text/plain": [
       "        col1      col2        col3         col4\n",
       "0  -0.870275 -1.065854  100.047485  1001.428402\n",
       "1  -1.175191 -1.437466   98.998930  1000.006935\n",
       "2  -1.306477  3.359580  101.588352   999.368779\n",
       "3  -0.732829  0.072575  100.835573   999.834442\n",
       "4  -1.059474  1.395027   98.538409   998.827163\n",
       "..       ...       ...         ...          ...\n",
       "95  0.536720 -0.449630  101.956568  1000.091372\n",
       "96 -0.547646 -0.417012   99.812171   999.657201\n",
       "97  1.446165  0.734196  100.914901   999.966755\n",
       "98 -0.184494 -0.547518   99.867251  1000.625049\n",
       "99  0.473173 -0.403834  100.678745   998.968778\n",
       "\n",
       "[400 rows x 4 columns]"
      ]
     },
     "execution_count": 152,
     "metadata": {},
     "output_type": "execute_result"
    }
   ],
   "source": [
    "data"
   ]
  },
  {
   "cell_type": "code",
   "execution_count": 153,
   "metadata": {},
   "outputs": [
    {
     "data": {
      "text/html": [
       "<div>\n",
       "<style scoped>\n",
       "    .dataframe tbody tr th:only-of-type {\n",
       "        vertical-align: middle;\n",
       "    }\n",
       "\n",
       "    .dataframe tbody tr th {\n",
       "        vertical-align: top;\n",
       "    }\n",
       "\n",
       "    .dataframe thead th {\n",
       "        text-align: right;\n",
       "    }\n",
       "</style>\n",
       "<table border=\"1\" class=\"dataframe\">\n",
       "  <thead>\n",
       "    <tr style=\"text-align: right;\">\n",
       "      <th></th>\n",
       "      <th>col3</th>\n",
       "      <th>col4</th>\n",
       "    </tr>\n",
       "  </thead>\n",
       "  <tbody>\n",
       "    <tr>\n",
       "      <th>0</th>\n",
       "      <td>100.047485</td>\n",
       "      <td>1001.428402</td>\n",
       "    </tr>\n",
       "    <tr>\n",
       "      <th>1</th>\n",
       "      <td>98.998930</td>\n",
       "      <td>1000.006935</td>\n",
       "    </tr>\n",
       "    <tr>\n",
       "      <th>2</th>\n",
       "      <td>101.588352</td>\n",
       "      <td>999.368779</td>\n",
       "    </tr>\n",
       "    <tr>\n",
       "      <th>3</th>\n",
       "      <td>100.835573</td>\n",
       "      <td>999.834442</td>\n",
       "    </tr>\n",
       "    <tr>\n",
       "      <th>4</th>\n",
       "      <td>98.538409</td>\n",
       "      <td>998.827163</td>\n",
       "    </tr>\n",
       "    <tr>\n",
       "      <th>...</th>\n",
       "      <td>...</td>\n",
       "      <td>...</td>\n",
       "    </tr>\n",
       "    <tr>\n",
       "      <th>95</th>\n",
       "      <td>101.956568</td>\n",
       "      <td>1000.091372</td>\n",
       "    </tr>\n",
       "    <tr>\n",
       "      <th>96</th>\n",
       "      <td>99.812171</td>\n",
       "      <td>999.657201</td>\n",
       "    </tr>\n",
       "    <tr>\n",
       "      <th>97</th>\n",
       "      <td>100.914901</td>\n",
       "      <td>999.966755</td>\n",
       "    </tr>\n",
       "    <tr>\n",
       "      <th>98</th>\n",
       "      <td>99.867251</td>\n",
       "      <td>1000.625049</td>\n",
       "    </tr>\n",
       "    <tr>\n",
       "      <th>99</th>\n",
       "      <td>100.678745</td>\n",
       "      <td>998.968778</td>\n",
       "    </tr>\n",
       "  </tbody>\n",
       "</table>\n",
       "<p>400 rows × 2 columns</p>\n",
       "</div>"
      ],
      "text/plain": [
       "          col3         col4\n",
       "0   100.047485  1001.428402\n",
       "1    98.998930  1000.006935\n",
       "2   101.588352   999.368779\n",
       "3   100.835573   999.834442\n",
       "4    98.538409   998.827163\n",
       "..         ...          ...\n",
       "95  101.956568  1000.091372\n",
       "96   99.812171   999.657201\n",
       "97  100.914901   999.966755\n",
       "98   99.867251  1000.625049\n",
       "99  100.678745   998.968778\n",
       "\n",
       "[400 rows x 2 columns]"
      ]
     },
     "execution_count": 153,
     "metadata": {},
     "output_type": "execute_result"
    }
   ],
   "source": [
    "selected_cols = [col for col in data if data[col].mean() > 50]\n",
    "data[selected_cols]"
   ]
  },
  {
   "cell_type": "code",
   "execution_count": null,
   "metadata": {},
   "outputs": [],
   "source": []
  }
 ],
 "metadata": {
  "kernelspec": {
   "display_name": "Python 3",
   "language": "python",
   "name": "python3"
  },
  "language_info": {
   "codemirror_mode": {
    "name": "ipython",
    "version": 3
   },
   "file_extension": ".py",
   "mimetype": "text/x-python",
   "name": "python",
   "nbconvert_exporter": "python",
   "pygments_lexer": "ipython3",
   "version": "3.7.6"
  },
  "varInspector": {
   "cols": {
    "lenName": 16,
    "lenType": 16,
    "lenVar": 40
   },
   "kernels_config": {
    "python": {
     "delete_cmd_postfix": "",
     "delete_cmd_prefix": "del ",
     "library": "var_list.py",
     "varRefreshCmd": "print(var_dic_list())"
    },
    "r": {
     "delete_cmd_postfix": ") ",
     "delete_cmd_prefix": "rm(",
     "library": "var_list.r",
     "varRefreshCmd": "cat(var_dic_list()) "
    }
   },
   "oldHeight": 207.333666,
   "position": {
    "height": "58.1818px",
    "left": "915.994px",
    "right": "20px",
    "top": "99.9858px",
    "width": "269.176px"
   },
   "types_to_exclude": [
    "module",
    "function",
    "builtin_function_or_method",
    "instance",
    "_Feature"
   ],
   "varInspector_section_display": "none",
   "window_display": true
  }
 },
 "nbformat": 4,
 "nbformat_minor": 2
}
